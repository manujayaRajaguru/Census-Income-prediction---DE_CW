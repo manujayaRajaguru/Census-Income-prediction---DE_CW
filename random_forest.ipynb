{
 "cells": [
  {
   "cell_type": "code",
   "execution_count": 1,
   "id": "initial_id",
   "metadata": {
    "collapsed": true,
    "ExecuteTime": {
     "end_time": "2024-03-28T19:15:21.228939700Z",
     "start_time": "2024-03-28T19:15:21.026032700Z"
    }
   },
   "outputs": [],
   "source": [
    "from sklearn.model_selection import train_test_split\n",
    "from sklearn.ensemble import RandomForestClassifier\n",
    "from sklearn.metrics import accuracy_score, classification_report\n",
    "import matplotlib.pyplot as plt\n",
    "import seaborn as sns\n",
    "import numpy as np\n",
    "\n",
    "import pandas as pd"
   ]
  },
  {
   "cell_type": "code",
   "execution_count": 2,
   "outputs": [
    {
     "data": {
      "text/plain": "          0         1         2         3         4         5         6  \\\n0  0.585612 -0.708951 -0.394252  0.723986 -1.186807 -0.706480 -2.813949   \n1  0.666157 -0.794009  0.128526 -0.026741 -1.777371 -1.184097 -1.460062   \n2  1.003859 -0.362138  0.025417 -0.306432  0.475741 -0.694615  0.313164   \n3  0.759383  1.577882  1.518623 -0.400051 -0.745707 -1.069425  0.678210   \n4 -2.779713  3.008856  3.935919  0.275650  0.486809  1.121522 -0.688891   \n\n          7         8         9  income  \n0 -0.829748  1.108792 -0.571561       0  \n1 -0.316101  0.109311 -1.100819       0  \n2  0.254932 -0.710069  0.140799       0  \n3 -0.063624  0.217335 -2.149402       0  \n4  0.225540 -0.897165  2.750224       0  ",
      "text/html": "<div>\n<style scoped>\n    .dataframe tbody tr th:only-of-type {\n        vertical-align: middle;\n    }\n\n    .dataframe tbody tr th {\n        vertical-align: top;\n    }\n\n    .dataframe thead th {\n        text-align: right;\n    }\n</style>\n<table border=\"1\" class=\"dataframe\">\n  <thead>\n    <tr style=\"text-align: right;\">\n      <th></th>\n      <th>0</th>\n      <th>1</th>\n      <th>2</th>\n      <th>3</th>\n      <th>4</th>\n      <th>5</th>\n      <th>6</th>\n      <th>7</th>\n      <th>8</th>\n      <th>9</th>\n      <th>income</th>\n    </tr>\n  </thead>\n  <tbody>\n    <tr>\n      <th>0</th>\n      <td>0.585612</td>\n      <td>-0.708951</td>\n      <td>-0.394252</td>\n      <td>0.723986</td>\n      <td>-1.186807</td>\n      <td>-0.706480</td>\n      <td>-2.813949</td>\n      <td>-0.829748</td>\n      <td>1.108792</td>\n      <td>-0.571561</td>\n      <td>0</td>\n    </tr>\n    <tr>\n      <th>1</th>\n      <td>0.666157</td>\n      <td>-0.794009</td>\n      <td>0.128526</td>\n      <td>-0.026741</td>\n      <td>-1.777371</td>\n      <td>-1.184097</td>\n      <td>-1.460062</td>\n      <td>-0.316101</td>\n      <td>0.109311</td>\n      <td>-1.100819</td>\n      <td>0</td>\n    </tr>\n    <tr>\n      <th>2</th>\n      <td>1.003859</td>\n      <td>-0.362138</td>\n      <td>0.025417</td>\n      <td>-0.306432</td>\n      <td>0.475741</td>\n      <td>-0.694615</td>\n      <td>0.313164</td>\n      <td>0.254932</td>\n      <td>-0.710069</td>\n      <td>0.140799</td>\n      <td>0</td>\n    </tr>\n    <tr>\n      <th>3</th>\n      <td>0.759383</td>\n      <td>1.577882</td>\n      <td>1.518623</td>\n      <td>-0.400051</td>\n      <td>-0.745707</td>\n      <td>-1.069425</td>\n      <td>0.678210</td>\n      <td>-0.063624</td>\n      <td>0.217335</td>\n      <td>-2.149402</td>\n      <td>0</td>\n    </tr>\n    <tr>\n      <th>4</th>\n      <td>-2.779713</td>\n      <td>3.008856</td>\n      <td>3.935919</td>\n      <td>0.275650</td>\n      <td>0.486809</td>\n      <td>1.121522</td>\n      <td>-0.688891</td>\n      <td>0.225540</td>\n      <td>-0.897165</td>\n      <td>2.750224</td>\n      <td>0</td>\n    </tr>\n  </tbody>\n</table>\n</div>"
     },
     "execution_count": 2,
     "metadata": {},
     "output_type": "execute_result"
    }
   ],
   "source": [
    "# Reading the data from the Pre-processed file\n",
    "data = pd.read_csv('cleaned_labelEncoded_PCA_adult.csv')\n",
    "data.head()"
   ],
   "metadata": {
    "collapsed": false,
    "ExecuteTime": {
     "end_time": "2024-03-28T19:15:21.310567800Z",
     "start_time": "2024-03-28T19:15:21.232303Z"
    }
   },
   "id": "efc78e141a4908aa"
  },
  {
   "cell_type": "code",
   "execution_count": null,
   "outputs": [
    {
     "name": "stdout",
     "output_type": "stream",
     "text": [
      "Fitting 3 folds for each of 108 candidates, totalling 324 fits\n"
     ]
    }
   ],
   "source": [
    "import pandas as pd\n",
    "from sklearn.model_selection import train_test_split, GridSearchCV\n",
    "from sklearn.ensemble import RandomForestClassifier\n",
    "from sklearn.metrics import accuracy_score, classification_report\n",
    "\n",
    "# Assuming 'data' is your DataFrame containing features and target\n",
    "# Drop the target column from features\n",
    "X = data.drop(columns=['income'])\n",
    "y = data['income']\n",
    "\n",
    "# Convert categorical variables into numerical representation (One-Hot Encoding)\n",
    "X = pd.get_dummies(X)\n",
    "\n",
    "# Split the data into training and testing sets\n",
    "X_train, X_test, y_train, y_test = train_test_split(X, y, test_size=0.2, random_state=42)\n",
    "\n",
    "# Create a random forest classifier\n",
    "rf_model = RandomForestClassifier(random_state=42)\n",
    "\n",
    "# Parameter grid for GridSearch\n",
    "parameter_grid = {\n",
    "    'n_estimators': [100, 200, 300],\n",
    "    'max_depth': [None, 10, 20, 30], \n",
    "    'min_samples_split': [2, 5, 10],\n",
    "    'min_samples_leaf': [1, 2, 4] \n",
    "}\n",
    "\n",
    "# Grid search with cross-validation\n",
    "grid_search = GridSearchCV(estimator=rf_model, param_grid=parameter_grid, cv=3, n_jobs=-1, verbose=2, scoring='accuracy')\n",
    "grid_search.fit(X_train, y_train)\n",
    "\n",
    "# Best parameters from the GridSearchCV\n",
    "print(\"Best Parameters:\", grid_search.best_params_)\n",
    "print(\"Best Score:\", grid_search.best_score_)\n",
    "\n",
    "# Train the model with the best parameters\n",
    "best_rf_model = grid_search.best_estimator_\n",
    "\n",
    "# Make predictions on the test data\n",
    "predictions = best_rf_model.predict(X_test)\n",
    "\n",
    "# Calculate accuracy\n",
    "accuracy = accuracy_score(y_test, predictions)\n",
    "print(\"Accuracy:\", accuracy)\n",
    "\n",
    "# Generate classification report\n",
    "report = classification_report(y_test, predictions)\n",
    "print(\"Classification Report:\")\n",
    "print(report)\n",
    "\n",
    "# Get feature importance\n",
    "feature_importance = pd.DataFrame({'Feature': X_train.columns, 'Importance': best_rf_model.feature_importances_})\n",
    "print(\"Feature Importance:\")\n",
    "print(feature_importance)\n"
   ],
   "metadata": {
    "collapsed": false,
    "is_executing": true,
    "ExecuteTime": {
     "start_time": "2024-03-28T19:15:21.310567800Z"
    }
   },
   "id": "82c641946d98a445"
  },
  {
   "cell_type": "code",
   "execution_count": null,
   "outputs": [],
   "source": [
    "# from sklearn.model_selection import GridSearchCV\n",
    "# \n",
    "# # Parameter grid for GridSearch\n",
    "# parameter_grid = {\n",
    "#     'n_estimators': [100, 200, 300],\n",
    "#     'max_depth': [None, 10, 20, 30], \n",
    "#     'min_samples_split': [2, 5, 10],\n",
    "#     'min_samples_leaf': [1, 2, 4] \n",
    "# }\n",
    "# \n",
    "# # Grid search with cross-validation\n",
    "# grid_search = GridSearchCV(estimator=rf_model, param_grid=parameter_grid, cv=3, n_jobs=-1, verbose=2, scoring='accuracy')\n",
    "# grid_search.fit(X_train, y_train)\n",
    "# \n",
    "# # Best parameters from the GridSearchCV\n",
    "# print(\"Best Parameters:\", grid_search.best_params_)\n",
    "# print(\"Best Score:\", grid_search.best_score_)"
   ],
   "metadata": {
    "collapsed": false,
    "is_executing": true
   },
   "id": "92e6f487810d629"
  },
  {
   "cell_type": "markdown",
   "source": [
    "# Confusion Matrix"
   ],
   "metadata": {
    "collapsed": false
   },
   "id": "9cbfd07ef4523ae9"
  },
  {
   "cell_type": "code",
   "execution_count": null,
   "outputs": [],
   "source": [
    "from sklearn.metrics import confusion_matrix\n",
    "\n",
    "# Construct confusion matrix\n",
    "conf_matrix = confusion_matrix(y_test, predictions)\n",
    "\n",
    "# Display confusion matrix\n",
    "print(\"Confusion Matrix:\")\n",
    "print(conf_matrix)\n",
    "\n",
    "plt.figure(figsize=(10, 7))\n",
    "sns.heatmap(conf_matrix, annot=True, fmt='d', cmap='Blues')\n",
    "plt.title('Confusion Matrix - Random Forest Classifier')\n",
    "plt.ylabel('Actual Label')\n",
    "plt.xlabel('Predicted Label')\n",
    "plt.show()\n"
   ],
   "metadata": {
    "collapsed": false,
    "is_executing": true
   },
   "id": "f987475fc056c6d9"
  },
  {
   "cell_type": "code",
   "execution_count": null,
   "outputs": [],
   "source": [],
   "metadata": {
    "collapsed": false,
    "is_executing": true
   },
   "id": "e5d0c7952170d7a0"
  }
 ],
 "metadata": {
  "kernelspec": {
   "display_name": "Python 3",
   "language": "python",
   "name": "python3"
  },
  "language_info": {
   "codemirror_mode": {
    "name": "ipython",
    "version": 2
   },
   "file_extension": ".py",
   "mimetype": "text/x-python",
   "name": "python",
   "nbconvert_exporter": "python",
   "pygments_lexer": "ipython2",
   "version": "2.7.6"
  }
 },
 "nbformat": 4,
 "nbformat_minor": 5
}
